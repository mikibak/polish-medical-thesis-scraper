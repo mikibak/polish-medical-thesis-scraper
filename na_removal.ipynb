{
 "cells": [
  {
   "cell_type": "code",
   "execution_count": 1,
   "id": "initial_id",
   "metadata": {
    "collapsed": true,
    "ExecuteTime": {
     "end_time": "2025-03-21T12:13:06.976483300Z",
     "start_time": "2025-03-21T12:13:01.238586400Z"
    }
   },
   "outputs": [],
   "source": [
    "import pandas as pd"
   ]
  },
  {
   "cell_type": "code",
   "execution_count": 2,
   "outputs": [
    {
     "data": {
      "text/plain": "                                               Title  \\\n0  Ocena wybranych czynników wpływających na wraż...   \n1  Wpływ drenażu limfatycznego na insulinoopornoś...   \n2  Ocena czynności płuc i reaktywności oskrzeli u...   \n3  Wpływ czasu rozpoczęcia leczenia na przebieg r...   \n4  Stymulacja błędnika przed manewrem repozycyjny...   \n\n                                                 URL  \\\n0  https://ppm.edu.pl/info/phd/UMW989aeff40c6b485...   \n1  https://ppm.edu.pl/info/phd/GUMb35f018e34064e3...   \n2  https://ppm.edu.pl/info/phd/UML9ea07c2435ac46e...   \n3  https://ppm.edu.pl/info/phd/UMWaa0c491ebd76496...   \n4  https://ppm.edu.pl/info/phd/UMLab3aaa3f1f19408...   \n\n                                                File  \\\n0  https://ppm.edu.pl/docstore/download/UMWe1a355...   \n1  https://ppm.edu.pl/docstore/download/GUM276331...   \n2  https://ppm.edu.pl/docstore/download/UML1fb9f1...   \n3  https://ppm.edu.pl/docstore/download/UMWfe9343...   \n4  https://ppm.edu.pl/docstore/download/UML3e2de4...   \n\n                                                Text  \n0                                                NaN  \n1                                                NaN  \n2                                                NaN  \n3  Urazy stanowią nieodłączną część dzieciństwa. ...  \n4  Składam serdeczne podziękowania mojej Promotor...  ",
      "text/html": "<div>\n<style scoped>\n    .dataframe tbody tr th:only-of-type {\n        vertical-align: middle;\n    }\n\n    .dataframe tbody tr th {\n        vertical-align: top;\n    }\n\n    .dataframe thead th {\n        text-align: right;\n    }\n</style>\n<table border=\"1\" class=\"dataframe\">\n  <thead>\n    <tr style=\"text-align: right;\">\n      <th></th>\n      <th>Title</th>\n      <th>URL</th>\n      <th>File</th>\n      <th>Text</th>\n    </tr>\n  </thead>\n  <tbody>\n    <tr>\n      <th>0</th>\n      <td>Ocena wybranych czynników wpływających na wraż...</td>\n      <td>https://ppm.edu.pl/info/phd/UMW989aeff40c6b485...</td>\n      <td>https://ppm.edu.pl/docstore/download/UMWe1a355...</td>\n      <td>NaN</td>\n    </tr>\n    <tr>\n      <th>1</th>\n      <td>Wpływ drenażu limfatycznego na insulinoopornoś...</td>\n      <td>https://ppm.edu.pl/info/phd/GUMb35f018e34064e3...</td>\n      <td>https://ppm.edu.pl/docstore/download/GUM276331...</td>\n      <td>NaN</td>\n    </tr>\n    <tr>\n      <th>2</th>\n      <td>Ocena czynności płuc i reaktywności oskrzeli u...</td>\n      <td>https://ppm.edu.pl/info/phd/UML9ea07c2435ac46e...</td>\n      <td>https://ppm.edu.pl/docstore/download/UML1fb9f1...</td>\n      <td>NaN</td>\n    </tr>\n    <tr>\n      <th>3</th>\n      <td>Wpływ czasu rozpoczęcia leczenia na przebieg r...</td>\n      <td>https://ppm.edu.pl/info/phd/UMWaa0c491ebd76496...</td>\n      <td>https://ppm.edu.pl/docstore/download/UMWfe9343...</td>\n      <td>Urazy stanowią nieodłączną część dzieciństwa. ...</td>\n    </tr>\n    <tr>\n      <th>4</th>\n      <td>Stymulacja błędnika przed manewrem repozycyjny...</td>\n      <td>https://ppm.edu.pl/info/phd/UMLab3aaa3f1f19408...</td>\n      <td>https://ppm.edu.pl/docstore/download/UML3e2de4...</td>\n      <td>Składam serdeczne podziękowania mojej Promotor...</td>\n    </tr>\n  </tbody>\n</table>\n</div>"
     },
     "execution_count": 2,
     "metadata": {},
     "output_type": "execute_result"
    }
   ],
   "source": [
    "df = pd.read_csv('./doctorates_with_text_files/doctorates_with_text.csv', sep='|')\n",
    "df.head()"
   ],
   "metadata": {
    "collapsed": false,
    "ExecuteTime": {
     "end_time": "2025-03-21T12:13:07.218292600Z",
     "start_time": "2025-03-21T12:13:06.976483300Z"
    }
   },
   "id": "e12927a657c01070"
  },
  {
   "cell_type": "code",
   "execution_count": 31,
   "outputs": [
    {
     "data": {
      "text/plain": "                                               Title  \\\n3  Wpływ czasu rozpoczęcia leczenia na przebieg r...   \n4  Stymulacja błędnika przed manewrem repozycyjny...   \n5  Wpływ leczenia autologicznymi komórkami macier...   \n6  Czynniki rokownicze u pacjentów z niedokrwienn...   \n7  Kompleksowość kliniczna pacjentów z wybranymi ...   \n\n                                                 URL  \\\n3  https://ppm.edu.pl/info/phd/UMWaa0c491ebd76496...   \n4  https://ppm.edu.pl/info/phd/UMLab3aaa3f1f19408...   \n5  https://ppm.edu.pl/info/phd/UMW5744cb55f6b4460...   \n6  https://ppm.edu.pl/info/phd/UMWb5d3d5d162c3499...   \n7  https://ppm.edu.pl/info/phd/UMW00f08d68581c4f1...   \n\n                                                File  \\\n3  https://ppm.edu.pl/docstore/download/UMWfe9343...   \n4  https://ppm.edu.pl/docstore/download/UML3e2de4...   \n5  https://ppm.edu.pl/docstore/download/UMW64e424...   \n6  https://ppm.edu.pl/docstore/download/UMW0424e3...   \n7  https://ppm.edu.pl/docstore/download/UMW62e1de...   \n\n                                                Text  \n3  Urazy stanowią nieodłączną część dzieciństwa. ...  \n4  Składam serdeczne podziękowania mojej Promotor...  \n5  Androgenetic alopecia is a condition that resu...  \n6  Szacunkowa liczba chorych na cukrzycę na świec...  \n7  The main aim of the study was to investigate t...  ",
      "text/html": "<div>\n<style scoped>\n    .dataframe tbody tr th:only-of-type {\n        vertical-align: middle;\n    }\n\n    .dataframe tbody tr th {\n        vertical-align: top;\n    }\n\n    .dataframe thead th {\n        text-align: right;\n    }\n</style>\n<table border=\"1\" class=\"dataframe\">\n  <thead>\n    <tr style=\"text-align: right;\">\n      <th></th>\n      <th>Title</th>\n      <th>URL</th>\n      <th>File</th>\n      <th>Text</th>\n    </tr>\n  </thead>\n  <tbody>\n    <tr>\n      <th>3</th>\n      <td>Wpływ czasu rozpoczęcia leczenia na przebieg r...</td>\n      <td>https://ppm.edu.pl/info/phd/UMWaa0c491ebd76496...</td>\n      <td>https://ppm.edu.pl/docstore/download/UMWfe9343...</td>\n      <td>Urazy stanowią nieodłączną część dzieciństwa. ...</td>\n    </tr>\n    <tr>\n      <th>4</th>\n      <td>Stymulacja błędnika przed manewrem repozycyjny...</td>\n      <td>https://ppm.edu.pl/info/phd/UMLab3aaa3f1f19408...</td>\n      <td>https://ppm.edu.pl/docstore/download/UML3e2de4...</td>\n      <td>Składam serdeczne podziękowania mojej Promotor...</td>\n    </tr>\n    <tr>\n      <th>5</th>\n      <td>Wpływ leczenia autologicznymi komórkami macier...</td>\n      <td>https://ppm.edu.pl/info/phd/UMW5744cb55f6b4460...</td>\n      <td>https://ppm.edu.pl/docstore/download/UMW64e424...</td>\n      <td>Androgenetic alopecia is a condition that resu...</td>\n    </tr>\n    <tr>\n      <th>6</th>\n      <td>Czynniki rokownicze u pacjentów z niedokrwienn...</td>\n      <td>https://ppm.edu.pl/info/phd/UMWb5d3d5d162c3499...</td>\n      <td>https://ppm.edu.pl/docstore/download/UMW0424e3...</td>\n      <td>Szacunkowa liczba chorych na cukrzycę na świec...</td>\n    </tr>\n    <tr>\n      <th>7</th>\n      <td>Kompleksowość kliniczna pacjentów z wybranymi ...</td>\n      <td>https://ppm.edu.pl/info/phd/UMW00f08d68581c4f1...</td>\n      <td>https://ppm.edu.pl/docstore/download/UMW62e1de...</td>\n      <td>The main aim of the study was to investigate t...</td>\n    </tr>\n  </tbody>\n</table>\n</div>"
     },
     "execution_count": 31,
     "metadata": {},
     "output_type": "execute_result"
    }
   ],
   "source": [
    "df = df.dropna(subset=['Text'])\n",
    "df.head()"
   ],
   "metadata": {
    "collapsed": false,
    "ExecuteTime": {
     "end_time": "2025-03-20T12:47:27.142411100Z",
     "start_time": "2025-03-20T12:47:27.049918800Z"
    }
   },
   "id": "e12c04fc9f922056"
  },
  {
   "cell_type": "code",
   "execution_count": 32,
   "outputs": [],
   "source": [
    "df = df.drop(columns=['Text'])"
   ],
   "metadata": {
    "collapsed": false,
    "ExecuteTime": {
     "end_time": "2025-03-20T12:47:27.742751400Z",
     "start_time": "2025-03-20T12:47:27.712895400Z"
    }
   },
   "id": "69434bf1dccbc48b"
  },
  {
   "cell_type": "code",
   "execution_count": 33,
   "outputs": [],
   "source": [
    "df.to_csv('./doctorates_without_na/doctorates_with_text_without_na_3.csv', sep='|', index=False)"
   ],
   "metadata": {
    "collapsed": false,
    "ExecuteTime": {
     "end_time": "2025-03-20T12:47:28.454802300Z",
     "start_time": "2025-03-20T12:47:28.412636600Z"
    }
   },
   "id": "bb6a84bc423f1748"
  },
  {
   "cell_type": "code",
   "execution_count": 34,
   "outputs": [
    {
     "data": {
      "text/plain": "                                               Title  \\\n0  Wpływ czasu rozpoczęcia leczenia na przebieg r...   \n1  Stymulacja błędnika przed manewrem repozycyjny...   \n2  Wpływ leczenia autologicznymi komórkami macier...   \n3  Czynniki rokownicze u pacjentów z niedokrwienn...   \n4  Kompleksowość kliniczna pacjentów z wybranymi ...   \n\n                                                 URL  \\\n0  https://ppm.edu.pl/info/phd/UMWaa0c491ebd76496...   \n1  https://ppm.edu.pl/info/phd/UMLab3aaa3f1f19408...   \n2  https://ppm.edu.pl/info/phd/UMW5744cb55f6b4460...   \n3  https://ppm.edu.pl/info/phd/UMWb5d3d5d162c3499...   \n4  https://ppm.edu.pl/info/phd/UMW00f08d68581c4f1...   \n\n                                                File  \n0  https://ppm.edu.pl/docstore/download/UMWfe9343...  \n1  https://ppm.edu.pl/docstore/download/UML3e2de4...  \n2  https://ppm.edu.pl/docstore/download/UMW64e424...  \n3  https://ppm.edu.pl/docstore/download/UMW0424e3...  \n4  https://ppm.edu.pl/docstore/download/UMW62e1de...  ",
      "text/html": "<div>\n<style scoped>\n    .dataframe tbody tr th:only-of-type {\n        vertical-align: middle;\n    }\n\n    .dataframe tbody tr th {\n        vertical-align: top;\n    }\n\n    .dataframe thead th {\n        text-align: right;\n    }\n</style>\n<table border=\"1\" class=\"dataframe\">\n  <thead>\n    <tr style=\"text-align: right;\">\n      <th></th>\n      <th>Title</th>\n      <th>URL</th>\n      <th>File</th>\n    </tr>\n  </thead>\n  <tbody>\n    <tr>\n      <th>0</th>\n      <td>Wpływ czasu rozpoczęcia leczenia na przebieg r...</td>\n      <td>https://ppm.edu.pl/info/phd/UMWaa0c491ebd76496...</td>\n      <td>https://ppm.edu.pl/docstore/download/UMWfe9343...</td>\n    </tr>\n    <tr>\n      <th>1</th>\n      <td>Stymulacja błędnika przed manewrem repozycyjny...</td>\n      <td>https://ppm.edu.pl/info/phd/UMLab3aaa3f1f19408...</td>\n      <td>https://ppm.edu.pl/docstore/download/UML3e2de4...</td>\n    </tr>\n    <tr>\n      <th>2</th>\n      <td>Wpływ leczenia autologicznymi komórkami macier...</td>\n      <td>https://ppm.edu.pl/info/phd/UMW5744cb55f6b4460...</td>\n      <td>https://ppm.edu.pl/docstore/download/UMW64e424...</td>\n    </tr>\n    <tr>\n      <th>3</th>\n      <td>Czynniki rokownicze u pacjentów z niedokrwienn...</td>\n      <td>https://ppm.edu.pl/info/phd/UMWb5d3d5d162c3499...</td>\n      <td>https://ppm.edu.pl/docstore/download/UMW0424e3...</td>\n    </tr>\n    <tr>\n      <th>4</th>\n      <td>Kompleksowość kliniczna pacjentów z wybranymi ...</td>\n      <td>https://ppm.edu.pl/info/phd/UMW00f08d68581c4f1...</td>\n      <td>https://ppm.edu.pl/docstore/download/UMW62e1de...</td>\n    </tr>\n  </tbody>\n</table>\n</div>"
     },
     "execution_count": 34,
     "metadata": {},
     "output_type": "execute_result"
    }
   ],
   "source": [
    "df = pd.read_csv('./doctorates_without_na/doctorates_with_text_without_na_3.csv', sep='|')\n",
    "df.head()"
   ],
   "metadata": {
    "collapsed": false,
    "ExecuteTime": {
     "end_time": "2025-03-20T12:47:29.068519700Z",
     "start_time": "2025-03-20T12:47:29.039709200Z"
    }
   },
   "id": "ab3010f0802caa0f"
  },
  {
   "cell_type": "code",
   "execution_count": null,
   "outputs": [],
   "source": [],
   "metadata": {
    "collapsed": false
   },
   "id": "dd4240027c977a8e"
  }
 ],
 "metadata": {
  "kernelspec": {
   "display_name": "Python 3",
   "language": "python",
   "name": "python3"
  },
  "language_info": {
   "codemirror_mode": {
    "name": "ipython",
    "version": 2
   },
   "file_extension": ".py",
   "mimetype": "text/x-python",
   "name": "python",
   "nbconvert_exporter": "python",
   "pygments_lexer": "ipython2",
   "version": "2.7.6"
  }
 },
 "nbformat": 4,
 "nbformat_minor": 5
}
